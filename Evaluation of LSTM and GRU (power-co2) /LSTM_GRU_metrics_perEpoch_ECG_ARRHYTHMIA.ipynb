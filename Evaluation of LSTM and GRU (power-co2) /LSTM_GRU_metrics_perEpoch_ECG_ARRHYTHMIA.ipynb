{
  "cells": [
    {
      "cell_type": "markdown",
      "metadata": {
        "id": "view-in-github",
        "colab_type": "text"
      },
      "source": [
        "<a href=\"https://colab.research.google.com/github/mohamedghaly1/ECG-Detection-Using-EGRU/blob/main/Evaluation%20of%20LSTM%20and%20GRU%20(power-co2)%20/LSTM_GRU_metrics_perEpoch_ECG_ARRHYTHMIA.ipynb\" target=\"_parent\"><img src=\"https://colab.research.google.com/assets/colab-badge.svg\" alt=\"Open In Colab\"/></a>"
      ]
    },
    {
      "cell_type": "markdown",
      "metadata": {
        "id": "DgOp---Emlv9"
      },
      "source": [
        "## Setup Environment"
      ]
    },
    {
      "cell_type": "code",
      "execution_count": null,
      "metadata": {
        "colab": {
          "base_uri": "https://localhost:8080/"
        },
        "id": "Lkk6AXu3O1A_",
        "outputId": "a46f22d2-0bc2-40b3-f53a-8d190808b5a4"
      },
      "outputs": [
        {
          "output_type": "stream",
          "name": "stdout",
          "text": [
            "Mounted at /content/gdrive\n"
          ]
        }
      ],
      "source": [
        "from google.colab import drive\n",
        "drive.mount('/content/gdrive')"
      ]
    },
    {
      "cell_type": "code",
      "execution_count": null,
      "metadata": {
        "id": "cxtxQ_dXO9Jg"
      },
      "outputs": [],
      "source": [
        "import os\n",
        "os.environ['KAGGLE_CONFIG_DIR']='/content/gdrive/MyDrive/kaggle_dataset'"
      ]
    },
    {
      "cell_type": "code",
      "execution_count": null,
      "metadata": {
        "colab": {
          "base_uri": "https://localhost:8080/"
        },
        "id": "d9LlGmdPPAVH",
        "outputId": "bb6fe47c-45cc-4eed-c245-8c38cc768ec0"
      },
      "outputs": [
        {
          "name": "stdout",
          "output_type": "stream",
          "text": [
            "/content/gdrive/MyDrive/kaggle_dataset\n"
          ]
        }
      ],
      "source": [
        "%cd /content/gdrive/MyDrive/kaggle_dataset/"
      ]
    },
    {
      "cell_type": "code",
      "execution_count": null,
      "metadata": {
        "colab": {
          "base_uri": "https://localhost:8080/"
        },
        "id": "j4mR-cbpPCQR",
        "outputId": "237af5fb-6168-4d6b-b910-e026cddae2c3"
      },
      "outputs": [
        {
          "name": "stdout",
          "output_type": "stream",
          "text": [
            "best_model.h5  heartbeat  kaggle.json\n"
          ]
        }
      ],
      "source": [
        "!ls"
      ]
    },
    {
      "cell_type": "code",
      "execution_count": null,
      "metadata": {
        "colab": {
          "base_uri": "https://localhost:8080/"
        },
        "id": "SvriZYQLPEvb",
        "outputId": "5d2937e7-4749-42a4-8a6f-508e09f2620d"
      },
      "outputs": [
        {
          "name": "stdout",
          "output_type": "stream",
          "text": [
            "Downloading heartbeat.zip to /content/gdrive/MyDrive/kaggle_dataset\n",
            " 92% 91.0M/98.8M [00:00<00:00, 119MB/s]\n",
            "100% 98.8M/98.8M [00:00<00:00, 113MB/s]\n"
          ]
        }
      ],
      "source": [
        "!kaggle datasets download -d shayanfazeli/heartbeat"
      ]
    },
    {
      "cell_type": "code",
      "execution_count": null,
      "metadata": {
        "colab": {
          "base_uri": "https://localhost:8080/"
        },
        "id": "qUFakxKePJWf",
        "outputId": "fe33a29d-6732-4c17-bb2e-1b523a65b331"
      },
      "outputs": [
        {
          "name": "stdout",
          "output_type": "stream",
          "text": [
            "mkdir: cannot create directory ‘heartbeat’: File exists\n"
          ]
        }
      ],
      "source": [
        "!mkdir heartbeat\n",
        "!mv heartbeat.zip heartbeat"
      ]
    },
    {
      "cell_type": "code",
      "execution_count": null,
      "metadata": {
        "colab": {
          "base_uri": "https://localhost:8080/"
        },
        "id": "HemVMw2kPLu8",
        "outputId": "df3d6e77-b738-4dd6-8bbf-e73509803447"
      },
      "outputs": [
        {
          "name": "stdout",
          "output_type": "stream",
          "text": [
            "/content/gdrive/MyDrive/kaggle_dataset/heartbeat\n"
          ]
        }
      ],
      "source": [
        "%cd heartbeat/"
      ]
    },
    {
      "cell_type": "code",
      "execution_count": null,
      "metadata": {
        "colab": {
          "base_uri": "https://localhost:8080/"
        },
        "id": "vW4P0dLZPNX8",
        "outputId": "d6873bc2-d0d5-42e3-b5e7-85699e33a29f"
      },
      "outputs": [
        {
          "name": "stdout",
          "output_type": "stream",
          "text": [
            "Archive:  heartbeat.zip\n",
            "replace mitbih_test.csv? [y]es, [n]o, [A]ll, [N]one, [r]ename: "
          ]
        }
      ],
      "source": [
        "!unzip heartbeat.zip"
      ]
    },
    {
      "cell_type": "code",
      "source": [
        "!pip install eco2ai"
      ],
      "metadata": {
        "id": "AwzMfZ8oXzyr",
        "outputId": "20d79ac7-d159-46b0-d0f8-f5e42a5dd1e4",
        "colab": {
          "base_uri": "https://localhost:8080/"
        }
      },
      "execution_count": null,
      "outputs": [
        {
          "output_type": "stream",
          "name": "stdout",
          "text": [
            "Collecting eco2ai\n",
            "  Downloading eco2ai-0.3.9-py2.py3-none-any.whl (107 kB)\n",
            "\u001b[2K     \u001b[90m━━━━━━━━━━━━━━━━━━━━━━━━━━━━━━━━━━━━━━━━\u001b[0m \u001b[32m107.4/107.4 kB\u001b[0m \u001b[31m2.6 MB/s\u001b[0m eta \u001b[36m0:00:00\u001b[0m\n",
            "\u001b[?25hCollecting APScheduler (from eco2ai)\n",
            "  Downloading APScheduler-3.10.4-py3-none-any.whl (59 kB)\n",
            "\u001b[2K     \u001b[90m━━━━━━━━━━━━━━━━━━━━━━━━━━━━━━━━━━━━━━━━\u001b[0m \u001b[32m59.3/59.3 kB\u001b[0m \u001b[31m8.4 MB/s\u001b[0m eta \u001b[36m0:00:00\u001b[0m\n",
            "\u001b[?25hCollecting pandas<=1.4.3,>=1.4.0 (from eco2ai)\n",
            "  Downloading pandas-1.4.3-cp310-cp310-manylinux_2_17_x86_64.manylinux2014_x86_64.whl (11.6 MB)\n",
            "\u001b[2K     \u001b[90m━━━━━━━━━━━━━━━━━━━━━━━━━━━━━━━━━━━━━━━━\u001b[0m \u001b[32m11.6/11.6 MB\u001b[0m \u001b[31m26.1 MB/s\u001b[0m eta \u001b[36m0:00:00\u001b[0m\n",
            "\u001b[?25hRequirement already satisfied: psutil<6.0.0,>=5.9.1 in /usr/local/lib/python3.10/dist-packages (from eco2ai) (5.9.5)\n",
            "Requirement already satisfied: py-cpuinfo in /usr/local/lib/python3.10/dist-packages (from eco2ai) (9.0.0)\n",
            "Collecting pynvml (from eco2ai)\n",
            "  Downloading pynvml-11.5.0-py3-none-any.whl (53 kB)\n",
            "\u001b[2K     \u001b[90m━━━━━━━━━━━━━━━━━━━━━━━━━━━━━━━━━━━━━━━━\u001b[0m \u001b[32m53.1/53.1 kB\u001b[0m \u001b[31m2.9 MB/s\u001b[0m eta \u001b[36m0:00:00\u001b[0m\n",
            "\u001b[?25hRequirement already satisfied: requests in /usr/local/lib/python3.10/dist-packages (from eco2ai) (2.31.0)\n",
            "Requirement already satisfied: tornado in /usr/local/lib/python3.10/dist-packages (from eco2ai) (6.3.3)\n",
            "Requirement already satisfied: tzlocal in /usr/local/lib/python3.10/dist-packages (from eco2ai) (5.2)\n",
            "Requirement already satisfied: python-dateutil>=2.8.1 in /usr/local/lib/python3.10/dist-packages (from pandas<=1.4.3,>=1.4.0->eco2ai) (2.8.2)\n",
            "Requirement already satisfied: pytz>=2020.1 in /usr/local/lib/python3.10/dist-packages (from pandas<=1.4.3,>=1.4.0->eco2ai) (2023.4)\n",
            "Requirement already satisfied: numpy>=1.21.0 in /usr/local/lib/python3.10/dist-packages (from pandas<=1.4.3,>=1.4.0->eco2ai) (1.25.2)\n",
            "Requirement already satisfied: six>=1.4.0 in /usr/local/lib/python3.10/dist-packages (from APScheduler->eco2ai) (1.16.0)\n",
            "Requirement already satisfied: charset-normalizer<4,>=2 in /usr/local/lib/python3.10/dist-packages (from requests->eco2ai) (3.3.2)\n",
            "Requirement already satisfied: idna<4,>=2.5 in /usr/local/lib/python3.10/dist-packages (from requests->eco2ai) (3.7)\n",
            "Requirement already satisfied: urllib3<3,>=1.21.1 in /usr/local/lib/python3.10/dist-packages (from requests->eco2ai) (2.0.7)\n",
            "Requirement already satisfied: certifi>=2017.4.17 in /usr/local/lib/python3.10/dist-packages (from requests->eco2ai) (2024.2.2)\n",
            "Installing collected packages: pynvml, APScheduler, pandas, eco2ai\n",
            "  Attempting uninstall: pandas\n",
            "    Found existing installation: pandas 2.0.3\n",
            "    Uninstalling pandas-2.0.3:\n",
            "      Successfully uninstalled pandas-2.0.3\n",
            "\u001b[31mERROR: pip's dependency resolver does not currently take into account all the packages that are installed. This behaviour is the source of the following dependency conflicts.\n",
            "bigframes 1.6.0 requires pandas>=1.5.0, but you have pandas 1.4.3 which is incompatible.\n",
            "cudf-cu12 24.4.1 requires pandas<2.2.2dev0,>=2.0, but you have pandas 1.4.3 which is incompatible.\n",
            "google-colab 1.0.0 requires pandas==2.0.3, but you have pandas 1.4.3 which is incompatible.\n",
            "plotnine 0.12.4 requires pandas>=1.5.0, but you have pandas 1.4.3 which is incompatible.\u001b[0m\u001b[31m\n",
            "\u001b[0mSuccessfully installed APScheduler-3.10.4 eco2ai-0.3.9 pandas-1.4.3 pynvml-11.5.0\n"
          ]
        }
      ]
    },
    {
      "cell_type": "markdown",
      "metadata": {
        "id": "YSZ9TXhWSNhE"
      },
      "source": [
        "## Import libraries"
      ]
    },
    {
      "cell_type": "code",
      "execution_count": null,
      "metadata": {
        "id": "NBdX9-frPQXq"
      },
      "outputs": [],
      "source": [
        "import numpy as np\n",
        "import pandas as pd\n",
        "import seaborn as sns\n",
        "import matplotlib.pyplot as plt\n",
        "import time\n",
        "import eco2ai\n",
        "from sklearn.metrics import classification_report\n",
        "from sklearn.model_selection import train_test_split\n",
        "from sklearn.metrics import f1_score\n",
        "from sklearn.metrics import confusion_matrix\n",
        "from keras.utils import to_categorical\n",
        "from sklearn.utils import class_weight\n",
        "from imblearn.over_sampling import SMOTE\n",
        "import warnings\n",
        "warnings.filterwarnings('ignore')\n",
        "\n",
        "import tensorflow as tf\n",
        "from tensorflow.keras.layers import LSTM, GRU, Dense, Input, BatchNormalization,Dropout\n",
        "from tensorflow.keras.models import Model\n",
        "from tensorflow.keras.callbacks import EarlyStopping, ModelCheckpoint"
      ]
    },
    {
      "cell_type": "markdown",
      "source": [
        "## Load and Preprocess Data"
      ],
      "metadata": {
        "id": "OGBzZbXzw-EA"
      }
    },
    {
      "cell_type": "code",
      "execution_count": null,
      "metadata": {
        "id": "-z5cmn3rPTQp",
        "colab": {
          "base_uri": "https://localhost:8080/"
        },
        "outputId": "6d61f40d-ffa9-4e83-b44c-5705568a3eb5"
      },
      "outputs": [
        {
          "output_type": "stream",
          "name": "stdout",
          "text": [
            "0.0    72471\n",
            "4.0     6431\n",
            "2.0     5788\n",
            "1.0     2223\n",
            "3.0      641\n",
            "Name: 187, dtype: int64\n"
          ]
        }
      ],
      "source": [
        "train_df = pd.read_csv(\"/content/gdrive/MyDrive/kaggle_dataset/heartbeat/mitbih_train.csv\",header=None)\n",
        "test_df = pd.read_csv(\"/content/gdrive/MyDrive/kaggle_dataset/heartbeat/mitbih_test.csv\",header=None)\n",
        "print(train_df[187].value_counts())"
      ]
    },
    {
      "cell_type": "markdown",
      "source": [
        "**Data Exploration and Visualization**"
      ],
      "metadata": {
        "id": "0rouRixNxhjm"
      }
    },
    {
      "cell_type": "code",
      "source": [
        "per_class = train_df[187].value_counts()\n",
        "plt.figure(figsize=(20,10))\n",
        "my_circle=plt.Circle( (0,0), 0.7, color='white')\n",
        "plt.pie(per_class, labels=['normal beat','unknown Beats','Ventricular ectopic beats','Supraventricular ectopic beats','Fusion Beats'], colors=['tab:blue','tab:orange','tab:purple','tab:olive','tab:green'],autopct='%1.1f%%')\n",
        "p=plt.gcf()\n",
        "p.gca().add_artist(my_circle)\n",
        "plt.show()"
      ],
      "metadata": {
        "colab": {
          "base_uri": "https://localhost:8080/",
          "height": 807
        },
        "id": "YnfvNDgaxMCq",
        "outputId": "4f10c3f3-0bf7-441b-f1f8-926b3c2b644e"
      },
      "execution_count": null,
      "outputs": [
        {
          "output_type": "display_data",
          "data": {
            "text/plain": [
              "<Figure size 2000x1000 with 1 Axes>"
            ],
            "image/png": "[encoded data removed]"
          },
          "metadata": {}
        }
      ]
    },
    {
      "cell_type": "markdown",
      "source": [
        "**Class Balancing using SMOTE**"
      ],
      "metadata": {
        "id": "PCAgYqSCxfbw"
      }
    },
    {
      "cell_type": "code",
      "source": [
        "from sklearn.utils import resample\n",
        "df_1=train_df [train_df [187]==1]\n",
        "df_2=train_df [train_df [187]==2]\n",
        "df_3=train_df [train_df[187]==3]\n",
        "df_4=train_df [train_df[187]==4]\n",
        "df_0=(train_df[train_df[187]==0]).sample(n=65000,random_state=42)\n",
        "train_df=pd.concat([df_0,df_1,df_2,df_3,df_4])"
      ],
      "metadata": {
        "id": "ptaeSMM9xUTK"
      },
      "execution_count": null,
      "outputs": []
    },
    {
      "cell_type": "code",
      "source": [
        "# Separate features and target variable\n",
        "X = train_df.iloc[:, :-1].values\n",
        "y = train_df.iloc[:, -1].values\n",
        "\n",
        "# Apply SMOTE\n",
        "smote = SMOTE(random_state=42)\n",
        "X_resampled, y_resampled = smote.fit_resample(X, y)\n",
        "\n",
        "# Concatenate the resampled data\n",
        "train_df = pd.DataFrame(X_resampled)\n",
        "train_df[187] = y_resampled\n",
        "\n",
        "per_class = train_df[187].value_counts()\n",
        "plt.figure(figsize=(20, 10))\n",
        "my_circle = plt.Circle((0, 0), 0.7, color='white')\n",
        "plt.pie(per_class, labels=['normal beat', 'unknown Beats', 'Ventricular ectopic beats', 'Supraventricular ectopic beats', 'Fusion Beats'], colors=['tab:blue', 'tab:orange', 'tab:purple', 'tab:olive', 'tab:green'], autopct='%1.1f%%')\n",
        "p = plt.gcf()\n",
        "p.gca().add_artist(my_circle)\n",
        "plt.show()\n",
        "print(train_df[187].value_counts())"
      ],
      "metadata": {
        "colab": {
          "base_uri": "https://localhost:8080/",
          "height": 911
        },
        "id": "zFmI2w_vxZqq",
        "outputId": "8c25c582-0c9a-44dc-bd90-40e0164bb838"
      },
      "execution_count": null,
      "outputs": [
        {
          "output_type": "display_data",
          "data": {
            "text/plain": [
              "<Figure size 2000x1000 with 1 Axes>"
            ],
            "image/png": "[encoded data removed]"
          },
          "metadata": {}
        },
        {
          "output_type": "stream",
          "name": "stdout",
          "text": [
            "0.0    65000\n",
            "1.0    65000\n",
            "2.0    65000\n",
            "3.0    65000\n",
            "4.0    65000\n",
            "Name: 187, dtype: int64\n"
          ]
        }
      ]
    },
    {
      "cell_type": "markdown",
      "source": [
        "**Display Sample ECG Signals**"
      ],
      "metadata": {
        "id": "8bvwr9tdxnKt"
      }
    },
    {
      "cell_type": "code",
      "source": [
        "classes=train_df.groupby(187,group_keys=False).apply(lambda train_df : train_df.sample(1))\n",
        "print(\"classes:\",classes)"
      ],
      "metadata": {
        "colab": {
          "base_uri": "https://localhost:8080/"
        },
        "id": "Bqk2DqmyxoNk",
        "outputId": "6357c766-952f-42c4-b385-fa143c06680a"
      },
      "execution_count": null,
      "outputs": [
        {
          "output_type": "stream",
          "name": "stdout",
          "text": [
            "classes:              0         1         2         3         4         5         6    \\\n",
            "38511   0.959032  0.901304  0.452514  0.039106  0.083799  0.262570  0.305400   \n",
            "140667  0.808585  0.709124  0.306901  0.039016  0.063595  0.096292  0.130741   \n",
            "189553  1.000000  0.969057  0.775187  0.492711  0.282424  0.152317  0.076185   \n",
            "217605  1.000000  0.958809  0.461033  0.202934  0.121040  0.097264  0.075403   \n",
            "305925  1.000000  0.618800  0.378840  0.152873  0.078554  0.063573  0.076642   \n",
            "\n",
            "             7         8         9    ...  178  179  180  181  182  183  184  \\\n",
            "38511   0.279330  0.275605  0.288641  ...  0.0  0.0  0.0  0.0  0.0  0.0  0.0   \n",
            "140667  0.112051  0.136897  0.146195  ...  0.0  0.0  0.0  0.0  0.0  0.0  0.0   \n",
            "189553  0.053564  0.062351  0.060208  ...  0.0  0.0  0.0  0.0  0.0  0.0  0.0   \n",
            "217605  0.072790  0.064821  0.058751  ...  0.0  0.0  0.0  0.0  0.0  0.0  0.0   \n",
            "305925  0.061218  0.075891  0.054905  ...  0.0  0.0  0.0  0.0  0.0  0.0  0.0   \n",
            "\n",
            "        185  186  187  \n",
            "38511   0.0  0.0  0.0  \n",
            "140667  0.0  0.0  1.0  \n",
            "189553  0.0  0.0  2.0  \n",
            "217605  0.0  0.0  3.0  \n",
            "305925  0.0  0.0  4.0  \n",
            "\n",
            "[5 rows x 188 columns]\n"
          ]
        }
      ]
    },
    {
      "cell_type": "code",
      "source": [
        "# Define custom colors for each class\n",
        "colors = ['blue', 'orange', 'green', 'red', 'purple']\n",
        "\n",
        "plt.figure(figsize=(16, 8))\n",
        "\n",
        "class_labels = ['normal beat', 'Supraventricular ectopic beat', 'Ventricular ectopic beat',\n",
        "                'Fusion Beat','unknown Beat']\n",
        "\n",
        "for i, label in enumerate(class_labels, 1):\n",
        "    plt.subplot(2, 3, i)\n",
        "    sns.lineplot(data=classes.iloc[i-1, :186], color=colors[i-1])\n",
        "    plt.title(label, fontsize=14, fontweight='bold')\n",
        "\n",
        "    # Set labels and ticks\n",
        "    plt.xlabel('Time', fontsize=12, fontweight='bold')\n",
        "    plt.ylabel('Value', fontsize=12, fontweight='bold')\n",
        "    plt.xticks(fontsize=10)\n",
        "    plt.yticks(fontsize=10)\n",
        "    plt.grid(True)\n",
        "\n",
        "plt.tight_layout()\n",
        "plt.show()"
      ],
      "metadata": {
        "colab": {
          "base_uri": "https://localhost:8080/",
          "height": 551
        },
        "id": "ZNFbPoFvxpVA",
        "outputId": "4f1d5eb7-62f5-4ace-f887-0c3d86367773"
      },
      "execution_count": null,
      "outputs": [
        {
          "output_type": "display_data",
          "data": {
            "text/plain": [
              "<Figure size 1600x800 with 5 Axes>"
            ],
            "image/png": "[encoded data removed]"
          },
          "metadata": {}
        }
      ]
    },
    {
      "cell_type": "markdown",
      "source": [
        "**Data setup for training and testing**"
      ],
      "metadata": {
        "id": "4IT-luUCyI6e"
      }
    },
    {
      "cell_type": "code",
      "source": [
        "target_train=train_df[187]\n",
        "target_test=test_df[187]\n",
        "y_train=to_categorical(target_train)\n",
        "y_test=to_categorical(target_test)\n",
        "X_train=train_df.iloc[:,:186].values\n",
        "X_test=test_df.iloc[:,:186].values\n",
        "X_train = X_train.reshape(len(X_train), X_train.shape[1],1)\n",
        "X_test = X_test.reshape(len(X_test), X_test.shape[1],1)"
      ],
      "metadata": {
        "id": "4fQ-0HcOyJ5s"
      },
      "execution_count": null,
      "outputs": []
    },
    {
      "cell_type": "markdown",
      "metadata": {
        "id": "w324SQjXSY6U"
      },
      "source": [
        "## **Model 1 (using LSTM)**"
      ]
    },
    {
      "cell_type": "markdown",
      "metadata": {
        "id": "MrvkvCuieil1"
      },
      "source": [
        "**LSTM Network**"
      ]
    },
    {
      "cell_type": "code",
      "execution_count": null,
      "metadata": {
        "id": "XGdq4MJnPhL2"
      },
      "outputs": [],
      "source": [
        "def lstm_network(X_train, y_train, X_test, y_test):\n",
        "    im_shape = (X_train.shape[1], 1)\n",
        "    inputs_lstm = Input(shape=(im_shape), name='inputs_lstm')\n",
        "    lstm1 = LSTM(128, return_sequences=True)(inputs_lstm)\n",
        "    lstm1 = BatchNormalization()(lstm1)\n",
        "    lstm2 = LSTM(64, return_sequences=True)(lstm1)\n",
        "    lstm2 = BatchNormalization()(lstm2)\n",
        "    lstm3 = LSTM(32)(lstm2)\n",
        "    lstm3 = BatchNormalization()(lstm3)\n",
        "    dense_end1 = Dense(32, activation='relu')(lstm3)\n",
        "    dense_end1 = Dropout(0.2)(dense_end1)\n",
        "    dense_end2 = Dense(32, activation='relu')(dense_end1)\n",
        "    dense_end2 = Dropout(0.2)(dense_end2)\n",
        "    main_output = Dense(5, activation='softmax', name='main_output')(dense_end2)\n",
        "    model = Model(inputs=inputs_lstm, outputs=main_output)\n",
        "    model.compile(optimizer='adam', loss='categorical_crossentropy', metrics=['accuracy'])\n",
        "\n",
        "    callbacks = [EarlyStopping(monitor='val_loss', patience=8),\n",
        "                 ModelCheckpoint(filepath='best_model.h5', monitor='val_loss', save_best_only=True)]\n",
        "\n",
        "    history = model.fit(X_train, y_train, epochs=1, callbacks=callbacks, batch_size=32, validation_data=(X_test, y_test))\n",
        "    model.load_weights('best_model.h5')\n",
        "    return model, history\n"
      ]
    },
    {
      "cell_type": "markdown",
      "source": [
        "**LSTM Evaluation Method**"
      ],
      "metadata": {
        "id": "M6VwDGHjz7s6"
      }
    },
    {
      "cell_type": "code",
      "execution_count": null,
      "metadata": {
        "id": "80JuEPUKPjT-"
      },
      "outputs": [],
      "source": [
        "def lstm_evaluate_model(history,X_test,y_test,model):\n",
        "    scores = model.evaluate((X_test),y_test, verbose=0)\n",
        "    print(\"Accuracy: %.2f%%\" % (scores[1]*100))\n",
        "\n",
        "    print(history)\n",
        "    fig1, ax_acc = plt.subplots()\n",
        "    plt.plot(history.history['accuracy'])\n",
        "    plt.plot(history.history['val_accuracy'])\n",
        "    plt.xlabel('Epoch')\n",
        "    plt.ylabel('Accuracy')\n",
        "    plt.title('Model - Accuracy')\n",
        "    plt.legend(['Training', 'Validation'], loc='lower right')\n",
        "    plt.show()\n",
        "\n",
        "    fig2, ax_loss = plt.subplots()\n",
        "    plt.xlabel('Epoch')\n",
        "    plt.ylabel('Loss')\n",
        "    plt.title('Model- Loss')\n",
        "    plt.legend(['Training', 'Validation'], loc='upper right')\n",
        "    plt.plot(history.history['loss'])\n",
        "    plt.plot(history.history['val_loss'])\n",
        "    plt.show()\n",
        "    target_names=['0','1','2','3','4']\n",
        "\n",
        "    y_true=[]\n",
        "    for element in y_test:\n",
        "        y_true.append(np.argmax(element))\n",
        "    prediction_proba=model.predict(X_test)\n",
        "    prediction=np.argmax(prediction_proba,axis=1)\n",
        "    cnf_matrix = confusion_matrix(y_true, prediction)"
      ]
    },
    {
      "cell_type": "markdown",
      "source": [
        "**Preparing for calculating power consumption**"
      ],
      "metadata": {
        "id": "gavf9Uqh0Bo5"
      }
    },
    {
      "cell_type": "code",
      "source": [
        "# Initialize eco2ai Tracker with project and experiment description\n",
        "lstm_tracker = eco2ai.Tracker(project_name=\"Heartbeat Classification\", experiment_description=\"Training EGRU model for heartbeat classification\", file_name=\"lstm_emission.csv\")"
      ],
      "metadata": {
        "id": "-fZMojon0GPB"
      },
      "execution_count": null,
      "outputs": []
    },
    {
      "cell_type": "markdown",
      "source": [
        "**Start training and testing the model**"
      ],
      "metadata": {
        "id": "37mL_Ot21QY3"
      }
    },
    {
      "cell_type": "code",
      "execution_count": null,
      "metadata": {
        "colab": {
          "base_uri": "https://localhost:8080/"
        },
        "id": "pVIgQDtwPl52",
        "outputId": "64c1c60b-923b-4ad1-9e30-9030cbfef182"
      },
      "outputs": [
        {
          "output_type": "stream",
          "name": "stdout",
          "text": [
            "10157/10157 [==============================] - 4575s 450ms/step - loss: 0.5071 - accuracy: 0.8191 - val_loss: 0.3640 - val_accuracy: 0.8839\n",
            "Training Took: 76.54457034667332 minutes!\n"
          ]
        }
      ],
      "source": [
        "lstm_tracker.start()\n",
        "start_time = time.time()\n",
        "model,history=lstm_network(X_train,y_train,X_test,y_test)\n",
        "current_time = time.time()\n",
        "lstm_tracker.stop()\n",
        "total = current_time - start_time\n",
        "print(f'Training Took: {total/60} minutes!')"
      ]
    },
    {
      "cell_type": "markdown",
      "source": [
        "**Evaluation**"
      ],
      "metadata": {
        "id": "FD9QZQKH1gAd"
      }
    },
    {
      "cell_type": "markdown",
      "source": [
        "**Reviewing the Power consumption**"
      ],
      "metadata": {
        "id": "RPH7DJUH1nPD"
      }
    },
    {
      "cell_type": "code",
      "source": [
        "df = pd.read_csv('lstm_emission.csv',sep =',')\n",
        "df"
      ],
      "metadata": {
        "id": "liF-qQgf1pyt",
        "colab": {
          "base_uri": "https://localhost:8080/",
          "height": 89
        },
        "outputId": "b7b077c3-0ef1-48dd-8c6f-119b7fab9707"
      },
      "execution_count": null,
      "outputs": [
        {
          "output_type": "execute_result",
          "data": {
            "text/plain": [
              "                                     id              project_name  \\\n",
              "0  a060091f-954f-4056-88b8-f97841905aaf  Heartbeat Classification   \n",
              "\n",
              "                             experiment_description  epoch  \\\n",
              "0  Training EGRU model for heartbeat classification    NaN   \n",
              "\n",
              "            start_time  duration(s)  power_consumption(kWh)  \\\n",
              "0  2024-06-05 10:50:26  4592.857292                0.288158   \n",
              "\n",
              "   CO2_emissions(kg)                                           CPU_name  \\\n",
              "0           0.162343  Intel(R) Xeon(R) CPU @ 2.20GHz/1 device(s), TD...   \n",
              "\n",
              "       GPU_name     OS region/country  cost  \n",
              "0   0 device(s)  Linux      TW/Taiwan     0  "
            ],
            "text/html": [
              "\n",
              "  <div id=\"df-7e92c4c2-f1a0-4b7b-ae25-1878ddcbf8ed\" class=\"colab-df-container\">\n",
              "    <div>\n",
              "<style scoped>\n",
              "    .dataframe tbody tr th:only-of-type {\n",
              "        vertical-align: middle;\n",
              "    }\n",
              "\n",
              "    .dataframe tbody tr th {\n",
              "        vertical-align: top;\n",
              "    }\n",
              "\n",
              "    .dataframe thead th {\n",
              "        text-align: right;\n",
              "    }\n",
              "</style>\n",
              "<table border=\"1\" class=\"dataframe\">\n",
              "  <thead>\n",
              "    <tr style=\"text-align: right;\">\n",
              "      <th></th>\n",
              "      <th>id</th>\n",
              "      <th>project_name</th>\n",
              "      <th>experiment_description</th>\n",
              "      <th>epoch</th>\n",
              "      <th>start_time</th>\n",
              "      <th>duration(s)</th>\n",
              "      <th>power_consumption(kWh)</th>\n",
              "      <th>CO2_emissions(kg)</th>\n",
              "      <th>CPU_name</th>\n",
              "      <th>GPU_name</th>\n",
              "      <th>OS</th>\n",
              "      <th>region/country</th>\n",
              "      <th>cost</th>\n",
              "    </tr>\n",
              "  </thead>\n",
              "  <tbody>\n",
              "    <tr>\n",
              "      <th>0</th>\n",
              "      <td>a060091f-954f-4056-88b8-f97841905aaf</td>\n",
              "      <td>Heartbeat Classification</td>\n",
              "      <td>Training EGRU model for heartbeat classification</td>\n",
              "      <td>NaN</td>\n",
              "      <td>2024-06-05 10:50:26</td>\n",
              "      <td>4592.857292</td>\n",
              "      <td>0.288158</td>\n",
              "      <td>0.162343</td>\n",
              "      <td>Intel(R) Xeon(R) CPU @ 2.20GHz/1 device(s), TD...</td>\n",
              "      <td>0 device(s)</td>\n",
              "      <td>Linux</td>\n",
              "      <td>TW/Taiwan</td>\n",
              "      <td>0</td>\n",
              "    </tr>\n",
              "  </tbody>\n",
              "</table>\n",
              "</div>\n",
              "    <div class=\"colab-df-buttons\">\n",
              "\n",
              "  <div class=\"colab-df-container\">\n",
              "    <button class=\"colab-df-convert\" onclick=\"convertToInteractive('df-7e92c4c2-f1a0-4b7b-ae25-1878ddcbf8ed')\"\n",
              "            title=\"Convert this dataframe to an interactive table.\"\n",
              "            style=\"display:none;\">\n",
              "\n",
              "  <svg xmlns=\"http://www.w3.org/2000/svg\" height=\"24px\" viewBox=\"0 -960 960 960\">\n",
              "    <path d=\"M120-120v-720h720v720H120Zm60-500h600v-160H180v160Zm220 220h160v-160H400v160Zm0 220h160v-160H400v160ZM180-400h160v-160H180v160Zm440 0h160v-160H620v160ZM180-180h160v-160H180v160Zm440 0h160v-160H620v160Z\"/>\n",
              "  </svg>\n",
              "    </button>\n",
              "\n",
              "  <style>\n",
              "    .colab-df-container {\n",
              "      display:flex;\n",
              "      gap: 12px;\n",
              "    }\n",
              "\n",
              "    .colab-df-convert {\n",
              "      background-color: #E8F0FE;\n",
              "      border: none;\n",
              "      border-radius: 50%;\n",
              "      cursor: pointer;\n",
              "      display: none;\n",
              "      fill: #1967D2;\n",
              "      height: 32px;\n",
              "      padding: 0 0 0 0;\n",
              "      width: 32px;\n",
              "    }\n",
              "\n",
              "    .colab-df-convert:hover {\n",
              "      background-color: #E2EBFA;\n",
              "      box-shadow: 0px 1px 2px rgba(60, 64, 67, 0.3), 0px 1px 3px 1px rgba(60, 64, 67, 0.15);\n",
              "      fill: #174EA6;\n",
              "    }\n",
              "\n",
              "    .colab-df-buttons div {\n",
              "      margin-bottom: 4px;\n",
              "    }\n",
              "\n",
              "    [theme=dark] .colab-df-convert {\n",
              "      background-color: #3B4455;\n",
              "      fill: #D2E3FC;\n",
              "    }\n",
              "\n",
              "    [theme=dark] .colab-df-convert:hover {\n",
              "      background-color: #434B5C;\n",
              "      box-shadow: 0px 1px 3px 1px rgba(0, 0, 0, 0.15);\n",
              "      filter: drop-shadow(0px 1px 2px rgba(0, 0, 0, 0.3));\n",
              "      fill: #FFFFFF;\n",
              "    }\n",
              "  </style>\n",
              "\n",
              "    <script>\n",
              "      const buttonEl =\n",
              "        document.querySelector('#df-7e92c4c2-f1a0-4b7b-ae25-1878ddcbf8ed button.colab-df-convert');\n",
              "      buttonEl.style.display =\n",
              "        google.colab.kernel.accessAllowed ? 'block' : 'none';\n",
              "\n",
              "      async function convertToInteractive(key) {\n",
              "        const element = document.querySelector('#df-7e92c4c2-f1a0-4b7b-ae25-1878ddcbf8ed');\n",
              "        const dataTable =\n",
              "          await google.colab.kernel.invokeFunction('convertToInteractive',\n",
              "                                                    [key], {});\n",
              "        if (!dataTable) return;\n",
              "\n",
              "        const docLinkHtml = 'Like what you see? Visit the ' +\n",
              "          '<a target=\"_blank\" href=https://colab.research.google.com/notebooks/data_table.ipynb>data table notebook</a>'\n",
              "          + ' to learn more about interactive tables.';\n",
              "        element.innerHTML = '';\n",
              "        dataTable['output_type'] = 'display_data';\n",
              "        await google.colab.output.renderOutput(dataTable, element);\n",
              "        const docLink = document.createElement('div');\n",
              "        docLink.innerHTML = docLinkHtml;\n",
              "        element.appendChild(docLink);\n",
              "      }\n",
              "    </script>\n",
              "  </div>\n",
              "\n",
              "\n",
              "  <div id=\"id_72a1eee9-94f8-4dc0-998a-0419ced7d4e2\">\n",
              "    <style>\n",
              "      .colab-df-generate {\n",
              "        background-color: #E8F0FE;\n",
              "        border: none;\n",
              "        border-radius: 50%;\n",
              "        cursor: pointer;\n",
              "        display: none;\n",
              "        fill: #1967D2;\n",
              "        height: 32px;\n",
              "        padding: 0 0 0 0;\n",
              "        width: 32px;\n",
              "      }\n",
              "\n",
              "      .colab-df-generate:hover {\n",
              "        background-color: #E2EBFA;\n",
              "        box-shadow: 0px 1px 2px rgba(60, 64, 67, 0.3), 0px 1px 3px 1px rgba(60, 64, 67, 0.15);\n",
              "        fill: #174EA6;\n",
              "      }\n",
              "\n",
              "      [theme=dark] .colab-df-generate {\n",
              "        background-color: #3B4455;\n",
              "        fill: #D2E3FC;\n",
              "      }\n",
              "\n",
              "      [theme=dark] .colab-df-generate:hover {\n",
              "        background-color: #434B5C;\n",
              "        box-shadow: 0px 1px 3px 1px rgba(0, 0, 0, 0.15);\n",
              "        filter: drop-shadow(0px 1px 2px rgba(0, 0, 0, 0.3));\n",
              "        fill: #FFFFFF;\n",
              "      }\n",
              "    </style>\n",
              "    <button class=\"colab-df-generate\" onclick=\"generateWithVariable('df')\"\n",
              "            title=\"Generate code using this dataframe.\"\n",
              "            style=\"display:none;\">\n",
              "\n",
              "  <svg xmlns=\"http://www.w3.org/2000/svg\" height=\"24px\"viewBox=\"0 0 24 24\"\n",
              "       width=\"24px\">\n",
              "    <path d=\"M7,19H8.4L18.45,9,17,7.55,7,17.6ZM5,21V16.75L18.45,3.32a2,2,0,0,1,2.83,0l1.4,1.43a1.91,1.91,0,0,1,.58,1.4,1.91,1.91,0,0,1-.58,1.4L9.25,21ZM18.45,9,17,7.55Zm-12,3A5.31,5.31,0,0,0,4.9,8.1,5.31,5.31,0,0,0,1,6.5,5.31,5.31,0,0,0,4.9,4.9,5.31,5.31,0,0,0,6.5,1,5.31,5.31,0,0,0,8.1,4.9,5.31,5.31,0,0,0,12,6.5,5.46,5.46,0,0,0,6.5,12Z\"/>\n",
              "  </svg>\n",
              "    </button>\n",
              "    <script>\n",
              "      (() => {\n",
              "      const buttonEl =\n",
              "        document.querySelector('#id_72a1eee9-94f8-4dc0-998a-0419ced7d4e2 button.colab-df-generate');\n",
              "      buttonEl.style.display =\n",
              "        google.colab.kernel.accessAllowed ? 'block' : 'none';\n",
              "\n",
              "      buttonEl.onclick = () => {\n",
              "        google.colab.notebook.generateWithVariable('df');\n",
              "      }\n",
              "      })();\n",
              "    </script>\n",
              "  </div>\n",
              "\n",
              "    </div>\n",
              "  </div>\n"
            ],
            "application/vnd.google.colaboratory.intrinsic+json": {
              "type": "dataframe",
              "variable_name": "df",
              "summary": "{\n  \"name\": \"df\",\n  \"rows\": 1,\n  \"fields\": [\n    {\n      \"column\": \"id\",\n      \"properties\": {\n        \"dtype\": \"string\",\n        \"num_unique_values\": 1,\n        \"samples\": [\n          \"a060091f-954f-4056-88b8-f97841905aaf\"\n        ],\n        \"semantic_type\": \"\",\n        \"description\": \"\"\n      }\n    },\n    {\n      \"column\": \"project_name\",\n      \"properties\": {\n        \"dtype\": \"string\",\n        \"num_unique_values\": 1,\n        \"samples\": [\n          \"Heartbeat Classification\"\n        ],\n        \"semantic_type\": \"\",\n        \"description\": \"\"\n      }\n    },\n    {\n      \"column\": \"experiment_description\",\n      \"properties\": {\n        \"dtype\": \"string\",\n        \"num_unique_values\": 1,\n        \"samples\": [\n          \"Training EGRU model for heartbeat classification\"\n        ],\n        \"semantic_type\": \"\",\n        \"description\": \"\"\n      }\n    },\n    {\n      \"column\": \"epoch\",\n      \"properties\": {\n        \"dtype\": \"number\",\n        \"std\": null,\n        \"min\": null,\n        \"max\": null,\n        \"num_unique_values\": 0,\n        \"samples\": [],\n        \"semantic_type\": \"\",\n        \"description\": \"\"\n      }\n    },\n    {\n      \"column\": \"start_time\",\n      \"properties\": {\n        \"dtype\": \"object\",\n        \"num_unique_values\": 1,\n        \"samples\": [],\n        \"semantic_type\": \"\",\n        \"description\": \"\"\n      }\n    },\n    {\n      \"column\": \"duration(s)\",\n      \"properties\": {\n        \"dtype\": \"number\",\n        \"std\": null,\n        \"min\": 4592.857291936874,\n        \"max\": 4592.857291936874,\n        \"num_unique_values\": 1,\n        \"samples\": [],\n        \"semantic_type\": \"\",\n        \"description\": \"\"\n      }\n    },\n    {\n      \"column\": \"power_consumption(kWh)\",\n      \"properties\": {\n        \"dtype\": \"number\",\n        \"std\": null,\n        \"min\": 0.2881579281787271,\n        \"max\": 0.2881579281787271,\n        \"num_unique_values\": 1,\n        \"samples\": [],\n        \"semantic_type\": \"\",\n        \"description\": \"\"\n      }\n    },\n    {\n      \"column\": \"CO2_emissions(kg)\",\n      \"properties\": {\n        \"dtype\": \"number\",\n        \"std\": null,\n        \"min\": 0.1623427017352594,\n        \"max\": 0.1623427017352594,\n        \"num_unique_values\": 1,\n        \"samples\": [],\n        \"semantic_type\": \"\",\n        \"description\": \"\"\n      }\n    },\n    {\n      \"column\": \"CPU_name\",\n      \"properties\": {\n        \"dtype\": \"string\",\n        \"num_unique_values\": 1,\n        \"samples\": [],\n        \"semantic_type\": \"\",\n        \"description\": \"\"\n      }\n    },\n    {\n      \"column\": \"GPU_name\",\n      \"properties\": {\n        \"dtype\": \"string\",\n        \"num_unique_values\": 1,\n        \"samples\": [],\n        \"semantic_type\": \"\",\n        \"description\": \"\"\n      }\n    },\n    {\n      \"column\": \"OS\",\n      \"properties\": {\n        \"dtype\": \"string\",\n        \"num_unique_values\": 1,\n        \"samples\": [],\n        \"semantic_type\": \"\",\n        \"description\": \"\"\n      }\n    },\n    {\n      \"column\": \"region/country\",\n      \"properties\": {\n        \"dtype\": \"string\",\n        \"num_unique_values\": 1,\n        \"samples\": [],\n        \"semantic_type\": \"\",\n        \"description\": \"\"\n      }\n    },\n    {\n      \"column\": \"cost\",\n      \"properties\": {\n        \"dtype\": \"number\",\n        \"std\": null,\n        \"min\": 0,\n        \"max\": 0,\n        \"num_unique_values\": 1,\n        \"samples\": [],\n        \"semantic_type\": \"\",\n        \"description\": \"\"\n      }\n    }\n  ]\n}"
            }
          },
          "metadata": {},
          "execution_count": 13
        }
      ]
    },
    {
      "cell_type": "markdown",
      "source": [
        "ower consumption per epoch = 0.2\n",
        "\n",
        "CO2 emission = 0.16"
      ],
      "metadata": {
        "id": "_rzWKO5QEkJX"
      }
    },
    {
      "cell_type": "markdown",
      "metadata": {
        "id": "0KYMzMShSjpt"
      },
      "source": [
        "## **Model 2 (using GRU)**"
      ]
    },
    {
      "cell_type": "markdown",
      "metadata": {
        "id": "DUL2BR0Vk27E"
      },
      "source": [
        "**GRU Network**"
      ]
    },
    {
      "cell_type": "code",
      "execution_count": null,
      "metadata": {
        "id": "To64R8s8k-lf"
      },
      "outputs": [],
      "source": [
        "def gru_network(X_train, y_train, X_test, y_test):\n",
        "    im_shape = (X_train.shape[1], 1)\n",
        "    inputs_gru = Input(shape=(im_shape), name='inputs_gru')\n",
        "    gru1 = GRU(128, return_sequences=True)(inputs_gru)\n",
        "    gru1 = BatchNormalization()(gru1)\n",
        "    gru2 = GRU(64, return_sequences=True)(gru1)\n",
        "    gru2 = BatchNormalization()(gru2)\n",
        "    gru3 = GRU(64)(gru2)\n",
        "    gru3 = BatchNormalization()(gru3)\n",
        "    dense_end1 = Dense(32, activation='relu')(gru3)\n",
        "    dense_end2 = Dense(32, activation='relu')(dense_end1)\n",
        "    main_output = Dense(5, activation='softmax', name='main_output')(dense_end2)\n",
        "    model = Model(inputs=inputs_gru, outputs=main_output)\n",
        "    model.compile(optimizer='adam', loss='categorical_crossentropy', metrics=['accuracy'])\n",
        "\n",
        "    callbacks = [EarlyStopping(monitor='val_loss', patience=8),\n",
        "                 ModelCheckpoint(filepath='best_model.h5', monitor='val_loss', save_best_only=True)]\n",
        "\n",
        "    history = model.fit(X_train, y_train, epochs=1, callbacks=callbacks, batch_size=32, validation_data=(X_test, y_test))\n",
        "    model.load_weights('best_model.h5')\n",
        "\n",
        "    return model, history"
      ]
    },
    {
      "cell_type": "markdown",
      "source": [
        "**GRU Evaluation Method**"
      ],
      "metadata": {
        "id": "iprk1B-wyPaZ"
      }
    },
    {
      "cell_type": "code",
      "execution_count": null,
      "metadata": {
        "id": "VCSIVRleuzEw"
      },
      "outputs": [],
      "source": [
        "def gru_evaluate_model(history, X_test, y_test, model):\n",
        "    scores = model.evaluate(X_test, y_test, verbose=0)\n",
        "    print(\"Accuracy: %.2f%%\" % (scores[1] * 100))\n",
        "\n",
        "    print(history)\n",
        "\n",
        "    # Plot accuracy\n",
        "    plt.figure(figsize=(10, 5))\n",
        "    sns.lineplot(data=history.history['accuracy'], label='Training')\n",
        "    sns.lineplot(data=history.history['val_accuracy'], label='Validation')\n",
        "    plt.xlabel('Epoch')\n",
        "    plt.ylabel('Accuracy')\n",
        "    plt.title('Model Accuracy')\n",
        "    plt.legend()\n",
        "    plt.grid(True)\n",
        "    plt.show()\n",
        "\n",
        "    # Plot loss\n",
        "    plt.figure(figsize=(10, 5))\n",
        "    sns.lineplot(data=history.history['loss'], label='Training')\n",
        "    sns.lineplot(data=history.history['val_loss'], label='Validation')\n",
        "    plt.xlabel('Epoch')\n",
        "    plt.ylabel('Loss')\n",
        "    plt.title('Model Loss')\n",
        "    plt.legend()\n",
        "    plt.grid(True)\n",
        "    plt.show()\n",
        "\n",
        "    # Calculate confusion matrix\n",
        "    y_true = [np.argmax(element) for element in y_test]\n",
        "    prediction_proba = model.predict(X_test)\n",
        "    prediction = np.argmax(prediction_proba, axis=1)\n",
        "    cnf_matrix = confusion_matrix(y_true, prediction)\n",
        "\n",
        "    # Normalize confusion matrix\n",
        "    normalized_cnf_matrix = cnf_matrix.astype('float') / cnf_matrix.sum(axis=1)[:, np.newaxis]\n",
        "\n",
        "    # Plot normalized confusion matrix\n",
        "    plt.figure(figsize=(8, 6))\n",
        "    sns.heatmap(normalized_cnf_matrix, annot=True, fmt='.2f', cmap='Blues')\n",
        "    plt.xlabel('Predicted labels')\n",
        "    plt.ylabel('True labels')\n",
        "    plt.title('Normalized Confusion Matrix')\n",
        "    plt.show()"
      ]
    },
    {
      "cell_type": "markdown",
      "source": [
        "**Preparing for calculating power consumption**"
      ],
      "metadata": {
        "id": "gxGBY83GyuL5"
      }
    },
    {
      "cell_type": "code",
      "source": [
        "# Initialize eco2ai Tracker with project and experiment description\n",
        "gru_tracker = eco2ai.Tracker(project_name=\"Heartbeat Classification\", experiment_description=\"Training EGRU model for heartbeat classification\",file_name=\"gru_emission.csv\")"
      ],
      "metadata": {
        "id": "wanF4CHPpakI"
      },
      "execution_count": null,
      "outputs": []
    },
    {
      "cell_type": "markdown",
      "source": [
        "**Start training and testing the model**"
      ],
      "metadata": {
        "id": "khdHC3EdzI7C"
      }
    },
    {
      "cell_type": "code",
      "execution_count": null,
      "metadata": {
        "colab": {
          "base_uri": "https://localhost:8080/"
        },
        "id": "W0Cr639HlA9g",
        "outputId": "813163e9-76dc-47c7-e1bb-fa4825625e62"
      },
      "outputs": [
        {
          "output_type": "stream",
          "name": "stdout",
          "text": [
            "10157/10157 [==============================] - 4064s 399ms/step - loss: 0.2704 - accuracy: 0.9028 - val_loss: 1.4937 - val_accuracy: 0.3053\n",
            "Training Took: 68.5152429819107 minutes!\n"
          ]
        }
      ],
      "source": [
        "gru_tracker.start()\n",
        "start_time = time.time()\n",
        "model, history = gru_network(X_train, y_train, X_test, y_test)\n",
        "current_time = time.time()\n",
        "gru_tracker.stop()\n",
        "total = current_time - start_time\n",
        "print(f'Training Took: {total/60} minutes!')"
      ]
    },
    {
      "cell_type": "markdown",
      "source": [
        "**Evaluation**"
      ],
      "metadata": {
        "id": "-kR7BUlizbpC"
      }
    },
    {
      "cell_type": "markdown",
      "source": [
        "**Reviewing the Power consumption**"
      ],
      "metadata": {
        "id": "8XZ8riqqypfa"
      }
    },
    {
      "cell_type": "code",
      "source": [
        "df = pd.read_csv('gru_emission.csv',sep =',')\n",
        "df"
      ],
      "metadata": {
        "id": "MDOg4aQHyc7J",
        "colab": {
          "base_uri": "https://localhost:8080/",
          "height": 125
        },
        "outputId": "d7904e68-6532-4c64-b5db-94987a591667"
      },
      "execution_count": null,
      "outputs": [
        {
          "output_type": "execute_result",
          "data": {
            "text/plain": [
              "                                     id              project_name  \\\n",
              "0  9d0e0195-7810-419c-ab18-f32245f39b33  Heartbeat Classification   \n",
              "1  f018f234-b1d1-4acc-b7bb-7e912847704a  Heartbeat Classification   \n",
              "\n",
              "                             experiment_description  epoch  \\\n",
              "0  Training EGRU model for heartbeat classification    NaN   \n",
              "1  Training EGRU model for heartbeat classification    NaN   \n",
              "\n",
              "            start_time  duration(s)  power_consumption(kWh)  \\\n",
              "0  2024-06-05 12:08:26  4210.158798                0.261179   \n",
              "1  2024-06-05 12:08:57  4111.086663                0.262884   \n",
              "\n",
              "   CO2_emissions(kg)                                           CPU_name  \\\n",
              "0           0.147143  Intel(R) Xeon(R) CPU @ 2.20GHz/1 device(s), TD...   \n",
              "1           0.148104  Intel(R) Xeon(R) CPU @ 2.20GHz/1 device(s), TD...   \n",
              "\n",
              "       GPU_name     OS region/country  cost  \n",
              "0   0 device(s)  Linux      TW/Taiwan     0  \n",
              "1   0 device(s)  Linux      TW/Taiwan     0  "
            ],
            "text/html": [
              "\n",
              "  <div id=\"df-d7e7e13f-83fd-4381-bf50-3d2192083efa\" class=\"colab-df-container\">\n",
              "    <div>\n",
              "<style scoped>\n",
              "    .dataframe tbody tr th:only-of-type {\n",
              "        vertical-align: middle;\n",
              "    }\n",
              "\n",
              "    .dataframe tbody tr th {\n",
              "        vertical-align: top;\n",
              "    }\n",
              "\n",
              "    .dataframe thead th {\n",
              "        text-align: right;\n",
              "    }\n",
              "</style>\n",
              "<table border=\"1\" class=\"dataframe\">\n",
              "  <thead>\n",
              "    <tr style=\"text-align: right;\">\n",
              "      <th></th>\n",
              "      <th>id</th>\n",
              "      <th>project_name</th>\n",
              "      <th>experiment_description</th>\n",
              "      <th>epoch</th>\n",
              "      <th>start_time</th>\n",
              "      <th>duration(s)</th>\n",
              "      <th>power_consumption(kWh)</th>\n",
              "      <th>CO2_emissions(kg)</th>\n",
              "      <th>CPU_name</th>\n",
              "      <th>GPU_name</th>\n",
              "      <th>OS</th>\n",
              "      <th>region/country</th>\n",
              "      <th>cost</th>\n",
              "    </tr>\n",
              "  </thead>\n",
              "  <tbody>\n",
              "    <tr>\n",
              "      <th>0</th>\n",
              "      <td>9d0e0195-7810-419c-ab18-f32245f39b33</td>\n",
              "      <td>Heartbeat Classification</td>\n",
              "      <td>Training EGRU model for heartbeat classification</td>\n",
              "      <td>NaN</td>\n",
              "      <td>2024-06-05 12:08:26</td>\n",
              "      <td>4210.158798</td>\n",
              "      <td>0.261179</td>\n",
              "      <td>0.147143</td>\n",
              "      <td>Intel(R) Xeon(R) CPU @ 2.20GHz/1 device(s), TD...</td>\n",
              "      <td>0 device(s)</td>\n",
              "      <td>Linux</td>\n",
              "      <td>TW/Taiwan</td>\n",
              "      <td>0</td>\n",
              "    </tr>\n",
              "    <tr>\n",
              "      <th>1</th>\n",
              "      <td>f018f234-b1d1-4acc-b7bb-7e912847704a</td>\n",
              "      <td>Heartbeat Classification</td>\n",
              "      <td>Training EGRU model for heartbeat classification</td>\n",
              "      <td>NaN</td>\n",
              "      <td>2024-06-05 12:08:57</td>\n",
              "      <td>4111.086663</td>\n",
              "      <td>0.262884</td>\n",
              "      <td>0.148104</td>\n",
              "      <td>Intel(R) Xeon(R) CPU @ 2.20GHz/1 device(s), TD...</td>\n",
              "      <td>0 device(s)</td>\n",
              "      <td>Linux</td>\n",
              "      <td>TW/Taiwan</td>\n",
              "      <td>0</td>\n",
              "    </tr>\n",
              "  </tbody>\n",
              "</table>\n",
              "</div>\n",
              "    <div class=\"colab-df-buttons\">\n",
              "\n",
              "  <div class=\"colab-df-container\">\n",
              "    <button class=\"colab-df-convert\" onclick=\"convertToInteractive('df-d7e7e13f-83fd-4381-bf50-3d2192083efa')\"\n",
              "            title=\"Convert this dataframe to an interactive table.\"\n",
              "            style=\"display:none;\">\n",
              "\n",
              "  <svg xmlns=\"http://www.w3.org/2000/svg\" height=\"24px\" viewBox=\"0 -960 960 960\">\n",
              "    <path d=\"M120-120v-720h720v720H120Zm60-500h600v-160H180v160Zm220 220h160v-160H400v160Zm0 220h160v-160H400v160ZM180-400h160v-160H180v160Zm440 0h160v-160H620v160ZM180-180h160v-160H180v160Zm440 0h160v-160H620v160Z\"/>\n",
              "  </svg>\n",
              "    </button>\n",
              "\n",
              "  <style>\n",
              "    .colab-df-container {\n",
              "      display:flex;\n",
              "      gap: 12px;\n",
              "    }\n",
              "\n",
              "    .colab-df-convert {\n",
              "      background-color: #E8F0FE;\n",
              "      border: none;\n",
              "      border-radius: 50%;\n",
              "      cursor: pointer;\n",
              "      display: none;\n",
              "      fill: #1967D2;\n",
              "      height: 32px;\n",
              "      padding: 0 0 0 0;\n",
              "      width: 32px;\n",
              "    }\n",
              "\n",
              "    .colab-df-convert:hover {\n",
              "      background-color: #E2EBFA;\n",
              "      box-shadow: 0px 1px 2px rgba(60, 64, 67, 0.3), 0px 1px 3px 1px rgba(60, 64, 67, 0.15);\n",
              "      fill: #174EA6;\n",
              "    }\n",
              "\n",
              "    .colab-df-buttons div {\n",
              "      margin-bottom: 4px;\n",
              "    }\n",
              "\n",
              "    [theme=dark] .colab-df-convert {\n",
              "      background-color: #3B4455;\n",
              "      fill: #D2E3FC;\n",
              "    }\n",
              "\n",
              "    [theme=dark] .colab-df-convert:hover {\n",
              "      background-color: #434B5C;\n",
              "      box-shadow: 0px 1px 3px 1px rgba(0, 0, 0, 0.15);\n",
              "      filter: drop-shadow(0px 1px 2px rgba(0, 0, 0, 0.3));\n",
              "      fill: #FFFFFF;\n",
              "    }\n",
              "  </style>\n",
              "\n",
              "    <script>\n",
              "      const buttonEl =\n",
              "        document.querySelector('#df-d7e7e13f-83fd-4381-bf50-3d2192083efa button.colab-df-convert');\n",
              "      buttonEl.style.display =\n",
              "        google.colab.kernel.accessAllowed ? 'block' : 'none';\n",
              "\n",
              "      async function convertToInteractive(key) {\n",
              "        const element = document.querySelector('#df-d7e7e13f-83fd-4381-bf50-3d2192083efa');\n",
              "        const dataTable =\n",
              "          await google.colab.kernel.invokeFunction('convertToInteractive',\n",
              "                                                    [key], {});\n",
              "        if (!dataTable) return;\n",
              "\n",
              "        const docLinkHtml = 'Like what you see? Visit the ' +\n",
              "          '<a target=\"_blank\" href=https://colab.research.google.com/notebooks/data_table.ipynb>data table notebook</a>'\n",
              "          + ' to learn more about interactive tables.';\n",
              "        element.innerHTML = '';\n",
              "        dataTable['output_type'] = 'display_data';\n",
              "        await google.colab.output.renderOutput(dataTable, element);\n",
              "        const docLink = document.createElement('div');\n",
              "        docLink.innerHTML = docLinkHtml;\n",
              "        element.appendChild(docLink);\n",
              "      }\n",
              "    </script>\n",
              "  </div>\n",
              "\n",
              "\n",
              "<div id=\"df-d8853a45-c03e-4254-a622-191ed8434973\">\n",
              "  <button class=\"colab-df-quickchart\" onclick=\"quickchart('df-d8853a45-c03e-4254-a622-191ed8434973')\"\n",
              "            title=\"Suggest charts\"\n",
              "            style=\"display:none;\">\n",
              "\n",
              "<svg xmlns=\"http://www.w3.org/2000/svg\" height=\"24px\"viewBox=\"0 0 24 24\"\n",
              "     width=\"24px\">\n",
              "    <g>\n",
              "        <path d=\"M19 3H5c-1.1 0-2 .9-2 2v14c0 1.1.9 2 2 2h14c1.1 0 2-.9 2-2V5c0-1.1-.9-2-2-2zM9 17H7v-7h2v7zm4 0h-2V7h2v10zm4 0h-2v-4h2v4z\"/>\n",
              "    </g>\n",
              "</svg>\n",
              "  </button>\n",
              "\n",
              "<style>\n",
              "  .colab-df-quickchart {\n",
              "      --bg-color: #E8F0FE;\n",
              "      --fill-color: #1967D2;\n",
              "      --hover-bg-color: #E2EBFA;\n",
              "      --hover-fill-color: #174EA6;\n",
              "      --disabled-fill-color: #AAA;\n",
              "      --disabled-bg-color: #DDD;\n",
              "  }\n",
              "\n",
              "  [theme=dark] .colab-df-quickchart {\n",
              "      --bg-color: #3B4455;\n",
              "      --fill-color: #D2E3FC;\n",
              "      --hover-bg-color: #434B5C;\n",
              "      --hover-fill-color: #FFFFFF;\n",
              "      --disabled-bg-color: #3B4455;\n",
              "      --disabled-fill-color: #666;\n",
              "  }\n",
              "\n",
              "  .colab-df-quickchart {\n",
              "    background-color: var(--bg-color);\n",
              "    border: none;\n",
              "    border-radius: 50%;\n",
              "    cursor: pointer;\n",
              "    display: none;\n",
              "    fill: var(--fill-color);\n",
              "    height: 32px;\n",
              "    padding: 0;\n",
              "    width: 32px;\n",
              "  }\n",
              "\n",
              "  .colab-df-quickchart:hover {\n",
              "    background-color: var(--hover-bg-color);\n",
              "    box-shadow: 0 1px 2px rgba(60, 64, 67, 0.3), 0 1px 3px 1px rgba(60, 64, 67, 0.15);\n",
              "    fill: var(--button-hover-fill-color);\n",
              "  }\n",
              "\n",
              "  .colab-df-quickchart-complete:disabled,\n",
              "  .colab-df-quickchart-complete:disabled:hover {\n",
              "    background-color: var(--disabled-bg-color);\n",
              "    fill: var(--disabled-fill-color);\n",
              "    box-shadow: none;\n",
              "  }\n",
              "\n",
              "  .colab-df-spinner {\n",
              "    border: 2px solid var(--fill-color);\n",
              "    border-color: transparent;\n",
              "    border-bottom-color: var(--fill-color);\n",
              "    animation:\n",
              "      spin 1s steps(1) infinite;\n",
              "  }\n",
              "\n",
              "  @keyframes spin {\n",
              "    0% {\n",
              "      border-color: transparent;\n",
              "      border-bottom-color: var(--fill-color);\n",
              "      border-left-color: var(--fill-color);\n",
              "    }\n",
              "    20% {\n",
              "      border-color: transparent;\n",
              "      border-left-color: var(--fill-color);\n",
              "      border-top-color: var(--fill-color);\n",
              "    }\n",
              "    30% {\n",
              "      border-color: transparent;\n",
              "      border-left-color: var(--fill-color);\n",
              "      border-top-color: var(--fill-color);\n",
              "      border-right-color: var(--fill-color);\n",
              "    }\n",
              "    40% {\n",
              "      border-color: transparent;\n",
              "      border-right-color: var(--fill-color);\n",
              "      border-top-color: var(--fill-color);\n",
              "    }\n",
              "    60% {\n",
              "      border-color: transparent;\n",
              "      border-right-color: var(--fill-color);\n",
              "    }\n",
              "    80% {\n",
              "      border-color: transparent;\n",
              "      border-right-color: var(--fill-color);\n",
              "      border-bottom-color: var(--fill-color);\n",
              "    }\n",
              "    90% {\n",
              "      border-color: transparent;\n",
              "      border-bottom-color: var(--fill-color);\n",
              "    }\n",
              "  }\n",
              "</style>\n",
              "\n",
              "  <script>\n",
              "    async function quickchart(key) {\n",
              "      const quickchartButtonEl =\n",
              "        document.querySelector('#' + key + ' button');\n",
              "      quickchartButtonEl.disabled = true;  // To prevent multiple clicks.\n",
              "      quickchartButtonEl.classList.add('colab-df-spinner');\n",
              "      try {\n",
              "        const charts = await google.colab.kernel.invokeFunction(\n",
              "            'suggestCharts', [key], {});\n",
              "      } catch (error) {\n",
              "        console.error('Error during call to suggestCharts:', error);\n",
              "      }\n",
              "      quickchartButtonEl.classList.remove('colab-df-spinner');\n",
              "      quickchartButtonEl.classList.add('colab-df-quickchart-complete');\n",
              "    }\n",
              "    (() => {\n",
              "      let quickchartButtonEl =\n",
              "        document.querySelector('#df-d8853a45-c03e-4254-a622-191ed8434973 button');\n",
              "      quickchartButtonEl.style.display =\n",
              "        google.colab.kernel.accessAllowed ? 'block' : 'none';\n",
              "    })();\n",
              "  </script>\n",
              "</div>\n",
              "\n",
              "  <div id=\"id_c49d09bc-cc4a-4714-b8c8-41f68f41b5b5\">\n",
              "    <style>\n",
              "      .colab-df-generate {\n",
              "        background-color: #E8F0FE;\n",
              "        border: none;\n",
              "        border-radius: 50%;\n",
              "        cursor: pointer;\n",
              "        display: none;\n",
              "        fill: #1967D2;\n",
              "        height: 32px;\n",
              "        padding: 0 0 0 0;\n",
              "        width: 32px;\n",
              "      }\n",
              "\n",
              "      .colab-df-generate:hover {\n",
              "        background-color: #E2EBFA;\n",
              "        box-shadow: 0px 1px 2px rgba(60, 64, 67, 0.3), 0px 1px 3px 1px rgba(60, 64, 67, 0.15);\n",
              "        fill: #174EA6;\n",
              "      }\n",
              "\n",
              "      [theme=dark] .colab-df-generate {\n",
              "        background-color: #3B4455;\n",
              "        fill: #D2E3FC;\n",
              "      }\n",
              "\n",
              "      [theme=dark] .colab-df-generate:hover {\n",
              "        background-color: #434B5C;\n",
              "        box-shadow: 0px 1px 3px 1px rgba(0, 0, 0, 0.15);\n",
              "        filter: drop-shadow(0px 1px 2px rgba(0, 0, 0, 0.3));\n",
              "        fill: #FFFFFF;\n",
              "      }\n",
              "    </style>\n",
              "    <button class=\"colab-df-generate\" onclick=\"generateWithVariable('df')\"\n",
              "            title=\"Generate code using this dataframe.\"\n",
              "            style=\"display:none;\">\n",
              "\n",
              "  <svg xmlns=\"http://www.w3.org/2000/svg\" height=\"24px\"viewBox=\"0 0 24 24\"\n",
              "       width=\"24px\">\n",
              "    <path d=\"M7,19H8.4L18.45,9,17,7.55,7,17.6ZM5,21V16.75L18.45,3.32a2,2,0,0,1,2.83,0l1.4,1.43a1.91,1.91,0,0,1,.58,1.4,1.91,1.91,0,0,1-.58,1.4L9.25,21ZM18.45,9,17,7.55Zm-12,3A5.31,5.31,0,0,0,4.9,8.1,5.31,5.31,0,0,0,1,6.5,5.31,5.31,0,0,0,4.9,4.9,5.31,5.31,0,0,0,6.5,1,5.31,5.31,0,0,0,8.1,4.9,5.31,5.31,0,0,0,12,6.5,5.46,5.46,0,0,0,6.5,12Z\"/>\n",
              "  </svg>\n",
              "    </button>\n",
              "    <script>\n",
              "      (() => {\n",
              "      const buttonEl =\n",
              "        document.querySelector('#id_c49d09bc-cc4a-4714-b8c8-41f68f41b5b5 button.colab-df-generate');\n",
              "      buttonEl.style.display =\n",
              "        google.colab.kernel.accessAllowed ? 'block' : 'none';\n",
              "\n",
              "      buttonEl.onclick = () => {\n",
              "        google.colab.notebook.generateWithVariable('df');\n",
              "      }\n",
              "      })();\n",
              "    </script>\n",
              "  </div>\n",
              "\n",
              "    </div>\n",
              "  </div>\n"
            ],
            "application/vnd.google.colaboratory.intrinsic+json": {
              "type": "dataframe",
              "variable_name": "df",
              "summary": "{\n  \"name\": \"df\",\n  \"rows\": 2,\n  \"fields\": [\n    {\n      \"column\": \"id\",\n      \"properties\": {\n        \"dtype\": \"string\",\n        \"num_unique_values\": 2,\n        \"samples\": [\n          \"f018f234-b1d1-4acc-b7bb-7e912847704a\",\n          \"9d0e0195-7810-419c-ab18-f32245f39b33\"\n        ],\n        \"semantic_type\": \"\",\n        \"description\": \"\"\n      }\n    },\n    {\n      \"column\": \"project_name\",\n      \"properties\": {\n        \"dtype\": \"string\",\n        \"num_unique_values\": 1,\n        \"samples\": [\n          \"Heartbeat Classification\"\n        ],\n        \"semantic_type\": \"\",\n        \"description\": \"\"\n      }\n    },\n    {\n      \"column\": \"experiment_description\",\n      \"properties\": {\n        \"dtype\": \"string\",\n        \"num_unique_values\": 1,\n        \"samples\": [\n          \"Training EGRU model for heartbeat classification\"\n        ],\n        \"semantic_type\": \"\",\n        \"description\": \"\"\n      }\n    },\n    {\n      \"column\": \"epoch\",\n      \"properties\": {\n        \"dtype\": \"number\",\n        \"std\": null,\n        \"min\": null,\n        \"max\": null,\n        \"num_unique_values\": 0,\n        \"samples\": [],\n        \"semantic_type\": \"\",\n        \"description\": \"\"\n      }\n    },\n    {\n      \"column\": \"start_time\",\n      \"properties\": {\n        \"dtype\": \"object\",\n        \"num_unique_values\": 2,\n        \"samples\": [],\n        \"semantic_type\": \"\",\n        \"description\": \"\"\n      }\n    },\n    {\n      \"column\": \"duration(s)\",\n      \"properties\": {\n        \"dtype\": \"number\",\n        \"std\": 70.05457846506044,\n        \"min\": 4111.086663007736,\n        \"max\": 4210.158797979355,\n        \"num_unique_values\": 2,\n        \"samples\": [],\n        \"semantic_type\": \"\",\n        \"description\": \"\"\n      }\n    },\n    {\n      \"column\": \"power_consumption(kWh)\",\n      \"properties\": {\n        \"dtype\": \"number\",\n        \"std\": 0.0012060706946807106,\n        \"min\": 0.2611787896164582,\n        \"max\": 0.2628844311500564,\n        \"num_unique_values\": 2,\n        \"samples\": [],\n        \"semantic_type\": \"\",\n        \"description\": \"\"\n      }\n    },\n    {\n      \"column\": \"CO2_emissions(kg)\",\n      \"properties\": {\n        \"dtype\": \"number\",\n        \"std\": 0.0006794773140399165,\n        \"min\": 0.1471431676729098,\n        \"max\": 0.1481040937057499,\n        \"num_unique_values\": 2,\n        \"samples\": [],\n        \"semantic_type\": \"\",\n        \"description\": \"\"\n      }\n    },\n    {\n      \"column\": \"CPU_name\",\n      \"properties\": {\n        \"dtype\": \"string\",\n        \"num_unique_values\": 1,\n        \"samples\": [],\n        \"semantic_type\": \"\",\n        \"description\": \"\"\n      }\n    },\n    {\n      \"column\": \"GPU_name\",\n      \"properties\": {\n        \"dtype\": \"string\",\n        \"num_unique_values\": 1,\n        \"samples\": [],\n        \"semantic_type\": \"\",\n        \"description\": \"\"\n      }\n    },\n    {\n      \"column\": \"OS\",\n      \"properties\": {\n        \"dtype\": \"string\",\n        \"num_unique_values\": 1,\n        \"samples\": [],\n        \"semantic_type\": \"\",\n        \"description\": \"\"\n      }\n    },\n    {\n      \"column\": \"region/country\",\n      \"properties\": {\n        \"dtype\": \"string\",\n        \"num_unique_values\": 1,\n        \"samples\": [],\n        \"semantic_type\": \"\",\n        \"description\": \"\"\n      }\n    },\n    {\n      \"column\": \"cost\",\n      \"properties\": {\n        \"dtype\": \"number\",\n        \"std\": 0,\n        \"min\": 0,\n        \"max\": 0,\n        \"num_unique_values\": 1,\n        \"samples\": [],\n        \"semantic_type\": \"\",\n        \"description\": \"\"\n      }\n    }\n  ]\n}"
            }
          },
          "metadata": {},
          "execution_count": 22
        }
      ]
    },
    {
      "cell_type": "markdown",
      "source": [
        "power consumption per epoch = 0.2\n",
        "\n",
        "CO2 emission = 0.14"
      ],
      "metadata": {
        "id": "QHbRy2FnOXzA"
      }
    }
  ],
  "metadata": {
    "colab": {
      "provenance": [],
      "authorship_tag": "ABX9TyMiFJWe97c6Ql2SNoqgIXv0",
      "include_colab_link": true
    },
    "kernelspec": {
      "display_name": "Python 3",
      "name": "python3"
    },
    "language_info": {
      "name": "python"
    }
  },
  "nbformat": 4,
  "nbformat_minor": 0
}